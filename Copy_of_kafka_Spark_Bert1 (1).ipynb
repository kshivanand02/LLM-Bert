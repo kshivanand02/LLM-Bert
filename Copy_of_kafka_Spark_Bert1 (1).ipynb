{
  "nbformat": 4,
  "nbformat_minor": 0,
  "metadata": {
    "colab": {
      "provenance": [],
      "gpuType": "T4"
    },
    "kernelspec": {
      "name": "python3",
      "display_name": "Python 3"
    },
    "language_info": {
      "name": "python"
    },
    "accelerator": "GPU",
    "widgets": {
      "application/vnd.jupyter.widget-state+json": {
        "afae5b0dbba24e14bf7ba7b51635c5d2": {
          "model_module": "@jupyter-widgets/controls",
          "model_name": "HBoxModel",
          "model_module_version": "1.5.0",
          "state": {
            "_dom_classes": [],
            "_model_module": "@jupyter-widgets/controls",
            "_model_module_version": "1.5.0",
            "_model_name": "HBoxModel",
            "_view_count": null,
            "_view_module": "@jupyter-widgets/controls",
            "_view_module_version": "1.5.0",
            "_view_name": "HBoxView",
            "box_style": "",
            "children": [
              "IPY_MODEL_6870b010c5ea4c2b9c8427000058e915",
              "IPY_MODEL_a5ac00241850476a934ca642168f2f07",
              "IPY_MODEL_8271267c34ee41fda3158a64d1e307ee"
            ],
            "layout": "IPY_MODEL_318ef6d4bdc84c2ab6035b1ae3788d7e"
          }
        },
        "6870b010c5ea4c2b9c8427000058e915": {
          "model_module": "@jupyter-widgets/controls",
          "model_name": "HTMLModel",
          "model_module_version": "1.5.0",
          "state": {
            "_dom_classes": [],
            "_model_module": "@jupyter-widgets/controls",
            "_model_module_version": "1.5.0",
            "_model_name": "HTMLModel",
            "_view_count": null,
            "_view_module": "@jupyter-widgets/controls",
            "_view_module_version": "1.5.0",
            "_view_name": "HTMLView",
            "description": "",
            "description_tooltip": null,
            "layout": "IPY_MODEL_500667614e59449e8d7fcb8124f1e061",
            "placeholder": "​",
            "style": "IPY_MODEL_bc6655db9a2849ada05f25dfad62fbfe",
            "value": "tokenizer_config.json: 100%"
          }
        },
        "a5ac00241850476a934ca642168f2f07": {
          "model_module": "@jupyter-widgets/controls",
          "model_name": "FloatProgressModel",
          "model_module_version": "1.5.0",
          "state": {
            "_dom_classes": [],
            "_model_module": "@jupyter-widgets/controls",
            "_model_module_version": "1.5.0",
            "_model_name": "FloatProgressModel",
            "_view_count": null,
            "_view_module": "@jupyter-widgets/controls",
            "_view_module_version": "1.5.0",
            "_view_name": "ProgressView",
            "bar_style": "success",
            "description": "",
            "description_tooltip": null,
            "layout": "IPY_MODEL_644c65b963af4b0dae0810c805fe2fb7",
            "max": 48,
            "min": 0,
            "orientation": "horizontal",
            "style": "IPY_MODEL_00cfe7a733174c0ebb97f4057f192d80",
            "value": 48
          }
        },
        "8271267c34ee41fda3158a64d1e307ee": {
          "model_module": "@jupyter-widgets/controls",
          "model_name": "HTMLModel",
          "model_module_version": "1.5.0",
          "state": {
            "_dom_classes": [],
            "_model_module": "@jupyter-widgets/controls",
            "_model_module_version": "1.5.0",
            "_model_name": "HTMLModel",
            "_view_count": null,
            "_view_module": "@jupyter-widgets/controls",
            "_view_module_version": "1.5.0",
            "_view_name": "HTMLView",
            "description": "",
            "description_tooltip": null,
            "layout": "IPY_MODEL_2488a61a30b94db89e66c208b9a4122e",
            "placeholder": "​",
            "style": "IPY_MODEL_8788b4e7ffb14e3d920e543beb8aa2fa",
            "value": " 48.0/48.0 [00:00&lt;00:00, 2.64kB/s]"
          }
        },
        "318ef6d4bdc84c2ab6035b1ae3788d7e": {
          "model_module": "@jupyter-widgets/base",
          "model_name": "LayoutModel",
          "model_module_version": "1.2.0",
          "state": {
            "_model_module": "@jupyter-widgets/base",
            "_model_module_version": "1.2.0",
            "_model_name": "LayoutModel",
            "_view_count": null,
            "_view_module": "@jupyter-widgets/base",
            "_view_module_version": "1.2.0",
            "_view_name": "LayoutView",
            "align_content": null,
            "align_items": null,
            "align_self": null,
            "border": null,
            "bottom": null,
            "display": null,
            "flex": null,
            "flex_flow": null,
            "grid_area": null,
            "grid_auto_columns": null,
            "grid_auto_flow": null,
            "grid_auto_rows": null,
            "grid_column": null,
            "grid_gap": null,
            "grid_row": null,
            "grid_template_areas": null,
            "grid_template_columns": null,
            "grid_template_rows": null,
            "height": null,
            "justify_content": null,
            "justify_items": null,
            "left": null,
            "margin": null,
            "max_height": null,
            "max_width": null,
            "min_height": null,
            "min_width": null,
            "object_fit": null,
            "object_position": null,
            "order": null,
            "overflow": null,
            "overflow_x": null,
            "overflow_y": null,
            "padding": null,
            "right": null,
            "top": null,
            "visibility": null,
            "width": null
          }
        },
        "500667614e59449e8d7fcb8124f1e061": {
          "model_module": "@jupyter-widgets/base",
          "model_name": "LayoutModel",
          "model_module_version": "1.2.0",
          "state": {
            "_model_module": "@jupyter-widgets/base",
            "_model_module_version": "1.2.0",
            "_model_name": "LayoutModel",
            "_view_count": null,
            "_view_module": "@jupyter-widgets/base",
            "_view_module_version": "1.2.0",
            "_view_name": "LayoutView",
            "align_content": null,
            "align_items": null,
            "align_self": null,
            "border": null,
            "bottom": null,
            "display": null,
            "flex": null,
            "flex_flow": null,
            "grid_area": null,
            "grid_auto_columns": null,
            "grid_auto_flow": null,
            "grid_auto_rows": null,
            "grid_column": null,
            "grid_gap": null,
            "grid_row": null,
            "grid_template_areas": null,
            "grid_template_columns": null,
            "grid_template_rows": null,
            "height": null,
            "justify_content": null,
            "justify_items": null,
            "left": null,
            "margin": null,
            "max_height": null,
            "max_width": null,
            "min_height": null,
            "min_width": null,
            "object_fit": null,
            "object_position": null,
            "order": null,
            "overflow": null,
            "overflow_x": null,
            "overflow_y": null,
            "padding": null,
            "right": null,
            "top": null,
            "visibility": null,
            "width": null
          }
        },
        "bc6655db9a2849ada05f25dfad62fbfe": {
          "model_module": "@jupyter-widgets/controls",
          "model_name": "DescriptionStyleModel",
          "model_module_version": "1.5.0",
          "state": {
            "_model_module": "@jupyter-widgets/controls",
            "_model_module_version": "1.5.0",
            "_model_name": "DescriptionStyleModel",
            "_view_count": null,
            "_view_module": "@jupyter-widgets/base",
            "_view_module_version": "1.2.0",
            "_view_name": "StyleView",
            "description_width": ""
          }
        },
        "644c65b963af4b0dae0810c805fe2fb7": {
          "model_module": "@jupyter-widgets/base",
          "model_name": "LayoutModel",
          "model_module_version": "1.2.0",
          "state": {
            "_model_module": "@jupyter-widgets/base",
            "_model_module_version": "1.2.0",
            "_model_name": "LayoutModel",
            "_view_count": null,
            "_view_module": "@jupyter-widgets/base",
            "_view_module_version": "1.2.0",
            "_view_name": "LayoutView",
            "align_content": null,
            "align_items": null,
            "align_self": null,
            "border": null,
            "bottom": null,
            "display": null,
            "flex": null,
            "flex_flow": null,
            "grid_area": null,
            "grid_auto_columns": null,
            "grid_auto_flow": null,
            "grid_auto_rows": null,
            "grid_column": null,
            "grid_gap": null,
            "grid_row": null,
            "grid_template_areas": null,
            "grid_template_columns": null,
            "grid_template_rows": null,
            "height": null,
            "justify_content": null,
            "justify_items": null,
            "left": null,
            "margin": null,
            "max_height": null,
            "max_width": null,
            "min_height": null,
            "min_width": null,
            "object_fit": null,
            "object_position": null,
            "order": null,
            "overflow": null,
            "overflow_x": null,
            "overflow_y": null,
            "padding": null,
            "right": null,
            "top": null,
            "visibility": null,
            "width": null
          }
        },
        "00cfe7a733174c0ebb97f4057f192d80": {
          "model_module": "@jupyter-widgets/controls",
          "model_name": "ProgressStyleModel",
          "model_module_version": "1.5.0",
          "state": {
            "_model_module": "@jupyter-widgets/controls",
            "_model_module_version": "1.5.0",
            "_model_name": "ProgressStyleModel",
            "_view_count": null,
            "_view_module": "@jupyter-widgets/base",
            "_view_module_version": "1.2.0",
            "_view_name": "StyleView",
            "bar_color": null,
            "description_width": ""
          }
        },
        "2488a61a30b94db89e66c208b9a4122e": {
          "model_module": "@jupyter-widgets/base",
          "model_name": "LayoutModel",
          "model_module_version": "1.2.0",
          "state": {
            "_model_module": "@jupyter-widgets/base",
            "_model_module_version": "1.2.0",
            "_model_name": "LayoutModel",
            "_view_count": null,
            "_view_module": "@jupyter-widgets/base",
            "_view_module_version": "1.2.0",
            "_view_name": "LayoutView",
            "align_content": null,
            "align_items": null,
            "align_self": null,
            "border": null,
            "bottom": null,
            "display": null,
            "flex": null,
            "flex_flow": null,
            "grid_area": null,
            "grid_auto_columns": null,
            "grid_auto_flow": null,
            "grid_auto_rows": null,
            "grid_column": null,
            "grid_gap": null,
            "grid_row": null,
            "grid_template_areas": null,
            "grid_template_columns": null,
            "grid_template_rows": null,
            "height": null,
            "justify_content": null,
            "justify_items": null,
            "left": null,
            "margin": null,
            "max_height": null,
            "max_width": null,
            "min_height": null,
            "min_width": null,
            "object_fit": null,
            "object_position": null,
            "order": null,
            "overflow": null,
            "overflow_x": null,
            "overflow_y": null,
            "padding": null,
            "right": null,
            "top": null,
            "visibility": null,
            "width": null
          }
        },
        "8788b4e7ffb14e3d920e543beb8aa2fa": {
          "model_module": "@jupyter-widgets/controls",
          "model_name": "DescriptionStyleModel",
          "model_module_version": "1.5.0",
          "state": {
            "_model_module": "@jupyter-widgets/controls",
            "_model_module_version": "1.5.0",
            "_model_name": "DescriptionStyleModel",
            "_view_count": null,
            "_view_module": "@jupyter-widgets/base",
            "_view_module_version": "1.2.0",
            "_view_name": "StyleView",
            "description_width": ""
          }
        },
        "d793e0a51cf845c0a2d71a85ab700029": {
          "model_module": "@jupyter-widgets/controls",
          "model_name": "HBoxModel",
          "model_module_version": "1.5.0",
          "state": {
            "_dom_classes": [],
            "_model_module": "@jupyter-widgets/controls",
            "_model_module_version": "1.5.0",
            "_model_name": "HBoxModel",
            "_view_count": null,
            "_view_module": "@jupyter-widgets/controls",
            "_view_module_version": "1.5.0",
            "_view_name": "HBoxView",
            "box_style": "",
            "children": [
              "IPY_MODEL_c7ba45821f85495ea9735b0b0fe94b81",
              "IPY_MODEL_057387f20a664687b7057cecc6d455b3",
              "IPY_MODEL_658f421b8bb0433abb381e0dd3cc84fa"
            ],
            "layout": "IPY_MODEL_95d34668c3f14d64bddfc803a796161c"
          }
        },
        "c7ba45821f85495ea9735b0b0fe94b81": {
          "model_module": "@jupyter-widgets/controls",
          "model_name": "HTMLModel",
          "model_module_version": "1.5.0",
          "state": {
            "_dom_classes": [],
            "_model_module": "@jupyter-widgets/controls",
            "_model_module_version": "1.5.0",
            "_model_name": "HTMLModel",
            "_view_count": null,
            "_view_module": "@jupyter-widgets/controls",
            "_view_module_version": "1.5.0",
            "_view_name": "HTMLView",
            "description": "",
            "description_tooltip": null,
            "layout": "IPY_MODEL_9d281076c9124408875a535ce37f65bb",
            "placeholder": "​",
            "style": "IPY_MODEL_e2406dcc75474515aee756f5495334ff",
            "value": "vocab.txt: 100%"
          }
        },
        "057387f20a664687b7057cecc6d455b3": {
          "model_module": "@jupyter-widgets/controls",
          "model_name": "FloatProgressModel",
          "model_module_version": "1.5.0",
          "state": {
            "_dom_classes": [],
            "_model_module": "@jupyter-widgets/controls",
            "_model_module_version": "1.5.0",
            "_model_name": "FloatProgressModel",
            "_view_count": null,
            "_view_module": "@jupyter-widgets/controls",
            "_view_module_version": "1.5.0",
            "_view_name": "ProgressView",
            "bar_style": "success",
            "description": "",
            "description_tooltip": null,
            "layout": "IPY_MODEL_04d7c652e15f4cb1971693b4a6f9d57b",
            "max": 231508,
            "min": 0,
            "orientation": "horizontal",
            "style": "IPY_MODEL_af45290079544908a691ef489605973f",
            "value": 231508
          }
        },
        "658f421b8bb0433abb381e0dd3cc84fa": {
          "model_module": "@jupyter-widgets/controls",
          "model_name": "HTMLModel",
          "model_module_version": "1.5.0",
          "state": {
            "_dom_classes": [],
            "_model_module": "@jupyter-widgets/controls",
            "_model_module_version": "1.5.0",
            "_model_name": "HTMLModel",
            "_view_count": null,
            "_view_module": "@jupyter-widgets/controls",
            "_view_module_version": "1.5.0",
            "_view_name": "HTMLView",
            "description": "",
            "description_tooltip": null,
            "layout": "IPY_MODEL_23f0020615484b789c2885dbcd0aedfb",
            "placeholder": "​",
            "style": "IPY_MODEL_29f80b8c811f43158933d1ef7a2f6c8b",
            "value": " 232k/232k [00:00&lt;00:00, 7.46MB/s]"
          }
        },
        "95d34668c3f14d64bddfc803a796161c": {
          "model_module": "@jupyter-widgets/base",
          "model_name": "LayoutModel",
          "model_module_version": "1.2.0",
          "state": {
            "_model_module": "@jupyter-widgets/base",
            "_model_module_version": "1.2.0",
            "_model_name": "LayoutModel",
            "_view_count": null,
            "_view_module": "@jupyter-widgets/base",
            "_view_module_version": "1.2.0",
            "_view_name": "LayoutView",
            "align_content": null,
            "align_items": null,
            "align_self": null,
            "border": null,
            "bottom": null,
            "display": null,
            "flex": null,
            "flex_flow": null,
            "grid_area": null,
            "grid_auto_columns": null,
            "grid_auto_flow": null,
            "grid_auto_rows": null,
            "grid_column": null,
            "grid_gap": null,
            "grid_row": null,
            "grid_template_areas": null,
            "grid_template_columns": null,
            "grid_template_rows": null,
            "height": null,
            "justify_content": null,
            "justify_items": null,
            "left": null,
            "margin": null,
            "max_height": null,
            "max_width": null,
            "min_height": null,
            "min_width": null,
            "object_fit": null,
            "object_position": null,
            "order": null,
            "overflow": null,
            "overflow_x": null,
            "overflow_y": null,
            "padding": null,
            "right": null,
            "top": null,
            "visibility": null,
            "width": null
          }
        },
        "9d281076c9124408875a535ce37f65bb": {
          "model_module": "@jupyter-widgets/base",
          "model_name": "LayoutModel",
          "model_module_version": "1.2.0",
          "state": {
            "_model_module": "@jupyter-widgets/base",
            "_model_module_version": "1.2.0",
            "_model_name": "LayoutModel",
            "_view_count": null,
            "_view_module": "@jupyter-widgets/base",
            "_view_module_version": "1.2.0",
            "_view_name": "LayoutView",
            "align_content": null,
            "align_items": null,
            "align_self": null,
            "border": null,
            "bottom": null,
            "display": null,
            "flex": null,
            "flex_flow": null,
            "grid_area": null,
            "grid_auto_columns": null,
            "grid_auto_flow": null,
            "grid_auto_rows": null,
            "grid_column": null,
            "grid_gap": null,
            "grid_row": null,
            "grid_template_areas": null,
            "grid_template_columns": null,
            "grid_template_rows": null,
            "height": null,
            "justify_content": null,
            "justify_items": null,
            "left": null,
            "margin": null,
            "max_height": null,
            "max_width": null,
            "min_height": null,
            "min_width": null,
            "object_fit": null,
            "object_position": null,
            "order": null,
            "overflow": null,
            "overflow_x": null,
            "overflow_y": null,
            "padding": null,
            "right": null,
            "top": null,
            "visibility": null,
            "width": null
          }
        },
        "e2406dcc75474515aee756f5495334ff": {
          "model_module": "@jupyter-widgets/controls",
          "model_name": "DescriptionStyleModel",
          "model_module_version": "1.5.0",
          "state": {
            "_model_module": "@jupyter-widgets/controls",
            "_model_module_version": "1.5.0",
            "_model_name": "DescriptionStyleModel",
            "_view_count": null,
            "_view_module": "@jupyter-widgets/base",
            "_view_module_version": "1.2.0",
            "_view_name": "StyleView",
            "description_width": ""
          }
        },
        "04d7c652e15f4cb1971693b4a6f9d57b": {
          "model_module": "@jupyter-widgets/base",
          "model_name": "LayoutModel",
          "model_module_version": "1.2.0",
          "state": {
            "_model_module": "@jupyter-widgets/base",
            "_model_module_version": "1.2.0",
            "_model_name": "LayoutModel",
            "_view_count": null,
            "_view_module": "@jupyter-widgets/base",
            "_view_module_version": "1.2.0",
            "_view_name": "LayoutView",
            "align_content": null,
            "align_items": null,
            "align_self": null,
            "border": null,
            "bottom": null,
            "display": null,
            "flex": null,
            "flex_flow": null,
            "grid_area": null,
            "grid_auto_columns": null,
            "grid_auto_flow": null,
            "grid_auto_rows": null,
            "grid_column": null,
            "grid_gap": null,
            "grid_row": null,
            "grid_template_areas": null,
            "grid_template_columns": null,
            "grid_template_rows": null,
            "height": null,
            "justify_content": null,
            "justify_items": null,
            "left": null,
            "margin": null,
            "max_height": null,
            "max_width": null,
            "min_height": null,
            "min_width": null,
            "object_fit": null,
            "object_position": null,
            "order": null,
            "overflow": null,
            "overflow_x": null,
            "overflow_y": null,
            "padding": null,
            "right": null,
            "top": null,
            "visibility": null,
            "width": null
          }
        },
        "af45290079544908a691ef489605973f": {
          "model_module": "@jupyter-widgets/controls",
          "model_name": "ProgressStyleModel",
          "model_module_version": "1.5.0",
          "state": {
            "_model_module": "@jupyter-widgets/controls",
            "_model_module_version": "1.5.0",
            "_model_name": "ProgressStyleModel",
            "_view_count": null,
            "_view_module": "@jupyter-widgets/base",
            "_view_module_version": "1.2.0",
            "_view_name": "StyleView",
            "bar_color": null,
            "description_width": ""
          }
        },
        "23f0020615484b789c2885dbcd0aedfb": {
          "model_module": "@jupyter-widgets/base",
          "model_name": "LayoutModel",
          "model_module_version": "1.2.0",
          "state": {
            "_model_module": "@jupyter-widgets/base",
            "_model_module_version": "1.2.0",
            "_model_name": "LayoutModel",
            "_view_count": null,
            "_view_module": "@jupyter-widgets/base",
            "_view_module_version": "1.2.0",
            "_view_name": "LayoutView",
            "align_content": null,
            "align_items": null,
            "align_self": null,
            "border": null,
            "bottom": null,
            "display": null,
            "flex": null,
            "flex_flow": null,
            "grid_area": null,
            "grid_auto_columns": null,
            "grid_auto_flow": null,
            "grid_auto_rows": null,
            "grid_column": null,
            "grid_gap": null,
            "grid_row": null,
            "grid_template_areas": null,
            "grid_template_columns": null,
            "grid_template_rows": null,
            "height": null,
            "justify_content": null,
            "justify_items": null,
            "left": null,
            "margin": null,
            "max_height": null,
            "max_width": null,
            "min_height": null,
            "min_width": null,
            "object_fit": null,
            "object_position": null,
            "order": null,
            "overflow": null,
            "overflow_x": null,
            "overflow_y": null,
            "padding": null,
            "right": null,
            "top": null,
            "visibility": null,
            "width": null
          }
        },
        "29f80b8c811f43158933d1ef7a2f6c8b": {
          "model_module": "@jupyter-widgets/controls",
          "model_name": "DescriptionStyleModel",
          "model_module_version": "1.5.0",
          "state": {
            "_model_module": "@jupyter-widgets/controls",
            "_model_module_version": "1.5.0",
            "_model_name": "DescriptionStyleModel",
            "_view_count": null,
            "_view_module": "@jupyter-widgets/base",
            "_view_module_version": "1.2.0",
            "_view_name": "StyleView",
            "description_width": ""
          }
        },
        "752347c4c8cd42608a8c3cb593067f6e": {
          "model_module": "@jupyter-widgets/controls",
          "model_name": "HBoxModel",
          "model_module_version": "1.5.0",
          "state": {
            "_dom_classes": [],
            "_model_module": "@jupyter-widgets/controls",
            "_model_module_version": "1.5.0",
            "_model_name": "HBoxModel",
            "_view_count": null,
            "_view_module": "@jupyter-widgets/controls",
            "_view_module_version": "1.5.0",
            "_view_name": "HBoxView",
            "box_style": "",
            "children": [
              "IPY_MODEL_1a94e7ec8107498ba2d59f57c759455e",
              "IPY_MODEL_505af5108e0e4905989f6cd4070f5c13",
              "IPY_MODEL_5217453131b04a3c819fae0598b5b35a"
            ],
            "layout": "IPY_MODEL_46239f9a4b2a4458a2270ac2048ed6f7"
          }
        },
        "1a94e7ec8107498ba2d59f57c759455e": {
          "model_module": "@jupyter-widgets/controls",
          "model_name": "HTMLModel",
          "model_module_version": "1.5.0",
          "state": {
            "_dom_classes": [],
            "_model_module": "@jupyter-widgets/controls",
            "_model_module_version": "1.5.0",
            "_model_name": "HTMLModel",
            "_view_count": null,
            "_view_module": "@jupyter-widgets/controls",
            "_view_module_version": "1.5.0",
            "_view_name": "HTMLView",
            "description": "",
            "description_tooltip": null,
            "layout": "IPY_MODEL_7758315533fd489d802f12c9ca94c367",
            "placeholder": "​",
            "style": "IPY_MODEL_cc678ab744ec4152aefab7b9c7324347",
            "value": "tokenizer.json: 100%"
          }
        },
        "505af5108e0e4905989f6cd4070f5c13": {
          "model_module": "@jupyter-widgets/controls",
          "model_name": "FloatProgressModel",
          "model_module_version": "1.5.0",
          "state": {
            "_dom_classes": [],
            "_model_module": "@jupyter-widgets/controls",
            "_model_module_version": "1.5.0",
            "_model_name": "FloatProgressModel",
            "_view_count": null,
            "_view_module": "@jupyter-widgets/controls",
            "_view_module_version": "1.5.0",
            "_view_name": "ProgressView",
            "bar_style": "success",
            "description": "",
            "description_tooltip": null,
            "layout": "IPY_MODEL_c5ced4f3808645518b28a601bf845b9d",
            "max": 466062,
            "min": 0,
            "orientation": "horizontal",
            "style": "IPY_MODEL_54278360da1c4db8830899e999ec239c",
            "value": 466062
          }
        },
        "5217453131b04a3c819fae0598b5b35a": {
          "model_module": "@jupyter-widgets/controls",
          "model_name": "HTMLModel",
          "model_module_version": "1.5.0",
          "state": {
            "_dom_classes": [],
            "_model_module": "@jupyter-widgets/controls",
            "_model_module_version": "1.5.0",
            "_model_name": "HTMLModel",
            "_view_count": null,
            "_view_module": "@jupyter-widgets/controls",
            "_view_module_version": "1.5.0",
            "_view_name": "HTMLView",
            "description": "",
            "description_tooltip": null,
            "layout": "IPY_MODEL_ea95be69c4184697852e50a84223c97a",
            "placeholder": "​",
            "style": "IPY_MODEL_6c5d240d5725421cae3b19ece423a119",
            "value": " 466k/466k [00:00&lt;00:00, 1.06MB/s]"
          }
        },
        "46239f9a4b2a4458a2270ac2048ed6f7": {
          "model_module": "@jupyter-widgets/base",
          "model_name": "LayoutModel",
          "model_module_version": "1.2.0",
          "state": {
            "_model_module": "@jupyter-widgets/base",
            "_model_module_version": "1.2.0",
            "_model_name": "LayoutModel",
            "_view_count": null,
            "_view_module": "@jupyter-widgets/base",
            "_view_module_version": "1.2.0",
            "_view_name": "LayoutView",
            "align_content": null,
            "align_items": null,
            "align_self": null,
            "border": null,
            "bottom": null,
            "display": null,
            "flex": null,
            "flex_flow": null,
            "grid_area": null,
            "grid_auto_columns": null,
            "grid_auto_flow": null,
            "grid_auto_rows": null,
            "grid_column": null,
            "grid_gap": null,
            "grid_row": null,
            "grid_template_areas": null,
            "grid_template_columns": null,
            "grid_template_rows": null,
            "height": null,
            "justify_content": null,
            "justify_items": null,
            "left": null,
            "margin": null,
            "max_height": null,
            "max_width": null,
            "min_height": null,
            "min_width": null,
            "object_fit": null,
            "object_position": null,
            "order": null,
            "overflow": null,
            "overflow_x": null,
            "overflow_y": null,
            "padding": null,
            "right": null,
            "top": null,
            "visibility": null,
            "width": null
          }
        },
        "7758315533fd489d802f12c9ca94c367": {
          "model_module": "@jupyter-widgets/base",
          "model_name": "LayoutModel",
          "model_module_version": "1.2.0",
          "state": {
            "_model_module": "@jupyter-widgets/base",
            "_model_module_version": "1.2.0",
            "_model_name": "LayoutModel",
            "_view_count": null,
            "_view_module": "@jupyter-widgets/base",
            "_view_module_version": "1.2.0",
            "_view_name": "LayoutView",
            "align_content": null,
            "align_items": null,
            "align_self": null,
            "border": null,
            "bottom": null,
            "display": null,
            "flex": null,
            "flex_flow": null,
            "grid_area": null,
            "grid_auto_columns": null,
            "grid_auto_flow": null,
            "grid_auto_rows": null,
            "grid_column": null,
            "grid_gap": null,
            "grid_row": null,
            "grid_template_areas": null,
            "grid_template_columns": null,
            "grid_template_rows": null,
            "height": null,
            "justify_content": null,
            "justify_items": null,
            "left": null,
            "margin": null,
            "max_height": null,
            "max_width": null,
            "min_height": null,
            "min_width": null,
            "object_fit": null,
            "object_position": null,
            "order": null,
            "overflow": null,
            "overflow_x": null,
            "overflow_y": null,
            "padding": null,
            "right": null,
            "top": null,
            "visibility": null,
            "width": null
          }
        },
        "cc678ab744ec4152aefab7b9c7324347": {
          "model_module": "@jupyter-widgets/controls",
          "model_name": "DescriptionStyleModel",
          "model_module_version": "1.5.0",
          "state": {
            "_model_module": "@jupyter-widgets/controls",
            "_model_module_version": "1.5.0",
            "_model_name": "DescriptionStyleModel",
            "_view_count": null,
            "_view_module": "@jupyter-widgets/base",
            "_view_module_version": "1.2.0",
            "_view_name": "StyleView",
            "description_width": ""
          }
        },
        "c5ced4f3808645518b28a601bf845b9d": {
          "model_module": "@jupyter-widgets/base",
          "model_name": "LayoutModel",
          "model_module_version": "1.2.0",
          "state": {
            "_model_module": "@jupyter-widgets/base",
            "_model_module_version": "1.2.0",
            "_model_name": "LayoutModel",
            "_view_count": null,
            "_view_module": "@jupyter-widgets/base",
            "_view_module_version": "1.2.0",
            "_view_name": "LayoutView",
            "align_content": null,
            "align_items": null,
            "align_self": null,
            "border": null,
            "bottom": null,
            "display": null,
            "flex": null,
            "flex_flow": null,
            "grid_area": null,
            "grid_auto_columns": null,
            "grid_auto_flow": null,
            "grid_auto_rows": null,
            "grid_column": null,
            "grid_gap": null,
            "grid_row": null,
            "grid_template_areas": null,
            "grid_template_columns": null,
            "grid_template_rows": null,
            "height": null,
            "justify_content": null,
            "justify_items": null,
            "left": null,
            "margin": null,
            "max_height": null,
            "max_width": null,
            "min_height": null,
            "min_width": null,
            "object_fit": null,
            "object_position": null,
            "order": null,
            "overflow": null,
            "overflow_x": null,
            "overflow_y": null,
            "padding": null,
            "right": null,
            "top": null,
            "visibility": null,
            "width": null
          }
        },
        "54278360da1c4db8830899e999ec239c": {
          "model_module": "@jupyter-widgets/controls",
          "model_name": "ProgressStyleModel",
          "model_module_version": "1.5.0",
          "state": {
            "_model_module": "@jupyter-widgets/controls",
            "_model_module_version": "1.5.0",
            "_model_name": "ProgressStyleModel",
            "_view_count": null,
            "_view_module": "@jupyter-widgets/base",
            "_view_module_version": "1.2.0",
            "_view_name": "StyleView",
            "bar_color": null,
            "description_width": ""
          }
        },
        "ea95be69c4184697852e50a84223c97a": {
          "model_module": "@jupyter-widgets/base",
          "model_name": "LayoutModel",
          "model_module_version": "1.2.0",
          "state": {
            "_model_module": "@jupyter-widgets/base",
            "_model_module_version": "1.2.0",
            "_model_name": "LayoutModel",
            "_view_count": null,
            "_view_module": "@jupyter-widgets/base",
            "_view_module_version": "1.2.0",
            "_view_name": "LayoutView",
            "align_content": null,
            "align_items": null,
            "align_self": null,
            "border": null,
            "bottom": null,
            "display": null,
            "flex": null,
            "flex_flow": null,
            "grid_area": null,
            "grid_auto_columns": null,
            "grid_auto_flow": null,
            "grid_auto_rows": null,
            "grid_column": null,
            "grid_gap": null,
            "grid_row": null,
            "grid_template_areas": null,
            "grid_template_columns": null,
            "grid_template_rows": null,
            "height": null,
            "justify_content": null,
            "justify_items": null,
            "left": null,
            "margin": null,
            "max_height": null,
            "max_width": null,
            "min_height": null,
            "min_width": null,
            "object_fit": null,
            "object_position": null,
            "order": null,
            "overflow": null,
            "overflow_x": null,
            "overflow_y": null,
            "padding": null,
            "right": null,
            "top": null,
            "visibility": null,
            "width": null
          }
        },
        "6c5d240d5725421cae3b19ece423a119": {
          "model_module": "@jupyter-widgets/controls",
          "model_name": "DescriptionStyleModel",
          "model_module_version": "1.5.0",
          "state": {
            "_model_module": "@jupyter-widgets/controls",
            "_model_module_version": "1.5.0",
            "_model_name": "DescriptionStyleModel",
            "_view_count": null,
            "_view_module": "@jupyter-widgets/base",
            "_view_module_version": "1.2.0",
            "_view_name": "StyleView",
            "description_width": ""
          }
        },
        "64c59978b6f941aea8a6da956da18f1b": {
          "model_module": "@jupyter-widgets/controls",
          "model_name": "HBoxModel",
          "model_module_version": "1.5.0",
          "state": {
            "_dom_classes": [],
            "_model_module": "@jupyter-widgets/controls",
            "_model_module_version": "1.5.0",
            "_model_name": "HBoxModel",
            "_view_count": null,
            "_view_module": "@jupyter-widgets/controls",
            "_view_module_version": "1.5.0",
            "_view_name": "HBoxView",
            "box_style": "",
            "children": [
              "IPY_MODEL_f1cff41227ab4702872df8868cbe6d06",
              "IPY_MODEL_d01ab02a7ce04a45b5810a555384e673",
              "IPY_MODEL_2e7289ba570b440998f449a14914c42e"
            ],
            "layout": "IPY_MODEL_86e16a4ec8844f619ca7ef9bb1d1b1fb"
          }
        },
        "f1cff41227ab4702872df8868cbe6d06": {
          "model_module": "@jupyter-widgets/controls",
          "model_name": "HTMLModel",
          "model_module_version": "1.5.0",
          "state": {
            "_dom_classes": [],
            "_model_module": "@jupyter-widgets/controls",
            "_model_module_version": "1.5.0",
            "_model_name": "HTMLModel",
            "_view_count": null,
            "_view_module": "@jupyter-widgets/controls",
            "_view_module_version": "1.5.0",
            "_view_name": "HTMLView",
            "description": "",
            "description_tooltip": null,
            "layout": "IPY_MODEL_7d3ee47ccd9645e1b85f0519e2c637fb",
            "placeholder": "​",
            "style": "IPY_MODEL_3a32cf07179a4a15b728d506fc9f8b9a",
            "value": "config.json: 100%"
          }
        },
        "d01ab02a7ce04a45b5810a555384e673": {
          "model_module": "@jupyter-widgets/controls",
          "model_name": "FloatProgressModel",
          "model_module_version": "1.5.0",
          "state": {
            "_dom_classes": [],
            "_model_module": "@jupyter-widgets/controls",
            "_model_module_version": "1.5.0",
            "_model_name": "FloatProgressModel",
            "_view_count": null,
            "_view_module": "@jupyter-widgets/controls",
            "_view_module_version": "1.5.0",
            "_view_name": "ProgressView",
            "bar_style": "success",
            "description": "",
            "description_tooltip": null,
            "layout": "IPY_MODEL_a835457c7b3e43cb8e8433be1a656545",
            "max": 570,
            "min": 0,
            "orientation": "horizontal",
            "style": "IPY_MODEL_62cc1bce6a114b0d88d90699c9b32545",
            "value": 570
          }
        },
        "2e7289ba570b440998f449a14914c42e": {
          "model_module": "@jupyter-widgets/controls",
          "model_name": "HTMLModel",
          "model_module_version": "1.5.0",
          "state": {
            "_dom_classes": [],
            "_model_module": "@jupyter-widgets/controls",
            "_model_module_version": "1.5.0",
            "_model_name": "HTMLModel",
            "_view_count": null,
            "_view_module": "@jupyter-widgets/controls",
            "_view_module_version": "1.5.0",
            "_view_name": "HTMLView",
            "description": "",
            "description_tooltip": null,
            "layout": "IPY_MODEL_3d749faab9394a23bb66252b754de55f",
            "placeholder": "​",
            "style": "IPY_MODEL_7434607aa63a44458c9a9f8366ea8c1d",
            "value": " 570/570 [00:00&lt;00:00, 35.7kB/s]"
          }
        },
        "86e16a4ec8844f619ca7ef9bb1d1b1fb": {
          "model_module": "@jupyter-widgets/base",
          "model_name": "LayoutModel",
          "model_module_version": "1.2.0",
          "state": {
            "_model_module": "@jupyter-widgets/base",
            "_model_module_version": "1.2.0",
            "_model_name": "LayoutModel",
            "_view_count": null,
            "_view_module": "@jupyter-widgets/base",
            "_view_module_version": "1.2.0",
            "_view_name": "LayoutView",
            "align_content": null,
            "align_items": null,
            "align_self": null,
            "border": null,
            "bottom": null,
            "display": null,
            "flex": null,
            "flex_flow": null,
            "grid_area": null,
            "grid_auto_columns": null,
            "grid_auto_flow": null,
            "grid_auto_rows": null,
            "grid_column": null,
            "grid_gap": null,
            "grid_row": null,
            "grid_template_areas": null,
            "grid_template_columns": null,
            "grid_template_rows": null,
            "height": null,
            "justify_content": null,
            "justify_items": null,
            "left": null,
            "margin": null,
            "max_height": null,
            "max_width": null,
            "min_height": null,
            "min_width": null,
            "object_fit": null,
            "object_position": null,
            "order": null,
            "overflow": null,
            "overflow_x": null,
            "overflow_y": null,
            "padding": null,
            "right": null,
            "top": null,
            "visibility": null,
            "width": null
          }
        },
        "7d3ee47ccd9645e1b85f0519e2c637fb": {
          "model_module": "@jupyter-widgets/base",
          "model_name": "LayoutModel",
          "model_module_version": "1.2.0",
          "state": {
            "_model_module": "@jupyter-widgets/base",
            "_model_module_version": "1.2.0",
            "_model_name": "LayoutModel",
            "_view_count": null,
            "_view_module": "@jupyter-widgets/base",
            "_view_module_version": "1.2.0",
            "_view_name": "LayoutView",
            "align_content": null,
            "align_items": null,
            "align_self": null,
            "border": null,
            "bottom": null,
            "display": null,
            "flex": null,
            "flex_flow": null,
            "grid_area": null,
            "grid_auto_columns": null,
            "grid_auto_flow": null,
            "grid_auto_rows": null,
            "grid_column": null,
            "grid_gap": null,
            "grid_row": null,
            "grid_template_areas": null,
            "grid_template_columns": null,
            "grid_template_rows": null,
            "height": null,
            "justify_content": null,
            "justify_items": null,
            "left": null,
            "margin": null,
            "max_height": null,
            "max_width": null,
            "min_height": null,
            "min_width": null,
            "object_fit": null,
            "object_position": null,
            "order": null,
            "overflow": null,
            "overflow_x": null,
            "overflow_y": null,
            "padding": null,
            "right": null,
            "top": null,
            "visibility": null,
            "width": null
          }
        },
        "3a32cf07179a4a15b728d506fc9f8b9a": {
          "model_module": "@jupyter-widgets/controls",
          "model_name": "DescriptionStyleModel",
          "model_module_version": "1.5.0",
          "state": {
            "_model_module": "@jupyter-widgets/controls",
            "_model_module_version": "1.5.0",
            "_model_name": "DescriptionStyleModel",
            "_view_count": null,
            "_view_module": "@jupyter-widgets/base",
            "_view_module_version": "1.2.0",
            "_view_name": "StyleView",
            "description_width": ""
          }
        },
        "a835457c7b3e43cb8e8433be1a656545": {
          "model_module": "@jupyter-widgets/base",
          "model_name": "LayoutModel",
          "model_module_version": "1.2.0",
          "state": {
            "_model_module": "@jupyter-widgets/base",
            "_model_module_version": "1.2.0",
            "_model_name": "LayoutModel",
            "_view_count": null,
            "_view_module": "@jupyter-widgets/base",
            "_view_module_version": "1.2.0",
            "_view_name": "LayoutView",
            "align_content": null,
            "align_items": null,
            "align_self": null,
            "border": null,
            "bottom": null,
            "display": null,
            "flex": null,
            "flex_flow": null,
            "grid_area": null,
            "grid_auto_columns": null,
            "grid_auto_flow": null,
            "grid_auto_rows": null,
            "grid_column": null,
            "grid_gap": null,
            "grid_row": null,
            "grid_template_areas": null,
            "grid_template_columns": null,
            "grid_template_rows": null,
            "height": null,
            "justify_content": null,
            "justify_items": null,
            "left": null,
            "margin": null,
            "max_height": null,
            "max_width": null,
            "min_height": null,
            "min_width": null,
            "object_fit": null,
            "object_position": null,
            "order": null,
            "overflow": null,
            "overflow_x": null,
            "overflow_y": null,
            "padding": null,
            "right": null,
            "top": null,
            "visibility": null,
            "width": null
          }
        },
        "62cc1bce6a114b0d88d90699c9b32545": {
          "model_module": "@jupyter-widgets/controls",
          "model_name": "ProgressStyleModel",
          "model_module_version": "1.5.0",
          "state": {
            "_model_module": "@jupyter-widgets/controls",
            "_model_module_version": "1.5.0",
            "_model_name": "ProgressStyleModel",
            "_view_count": null,
            "_view_module": "@jupyter-widgets/base",
            "_view_module_version": "1.2.0",
            "_view_name": "StyleView",
            "bar_color": null,
            "description_width": ""
          }
        },
        "3d749faab9394a23bb66252b754de55f": {
          "model_module": "@jupyter-widgets/base",
          "model_name": "LayoutModel",
          "model_module_version": "1.2.0",
          "state": {
            "_model_module": "@jupyter-widgets/base",
            "_model_module_version": "1.2.0",
            "_model_name": "LayoutModel",
            "_view_count": null,
            "_view_module": "@jupyter-widgets/base",
            "_view_module_version": "1.2.0",
            "_view_name": "LayoutView",
            "align_content": null,
            "align_items": null,
            "align_self": null,
            "border": null,
            "bottom": null,
            "display": null,
            "flex": null,
            "flex_flow": null,
            "grid_area": null,
            "grid_auto_columns": null,
            "grid_auto_flow": null,
            "grid_auto_rows": null,
            "grid_column": null,
            "grid_gap": null,
            "grid_row": null,
            "grid_template_areas": null,
            "grid_template_columns": null,
            "grid_template_rows": null,
            "height": null,
            "justify_content": null,
            "justify_items": null,
            "left": null,
            "margin": null,
            "max_height": null,
            "max_width": null,
            "min_height": null,
            "min_width": null,
            "object_fit": null,
            "object_position": null,
            "order": null,
            "overflow": null,
            "overflow_x": null,
            "overflow_y": null,
            "padding": null,
            "right": null,
            "top": null,
            "visibility": null,
            "width": null
          }
        },
        "7434607aa63a44458c9a9f8366ea8c1d": {
          "model_module": "@jupyter-widgets/controls",
          "model_name": "DescriptionStyleModel",
          "model_module_version": "1.5.0",
          "state": {
            "_model_module": "@jupyter-widgets/controls",
            "_model_module_version": "1.5.0",
            "_model_name": "DescriptionStyleModel",
            "_view_count": null,
            "_view_module": "@jupyter-widgets/base",
            "_view_module_version": "1.2.0",
            "_view_name": "StyleView",
            "description_width": ""
          }
        },
        "28a99985b532456fa12cd0507c8d1a45": {
          "model_module": "@jupyter-widgets/controls",
          "model_name": "HBoxModel",
          "model_module_version": "1.5.0",
          "state": {
            "_dom_classes": [],
            "_model_module": "@jupyter-widgets/controls",
            "_model_module_version": "1.5.0",
            "_model_name": "HBoxModel",
            "_view_count": null,
            "_view_module": "@jupyter-widgets/controls",
            "_view_module_version": "1.5.0",
            "_view_name": "HBoxView",
            "box_style": "",
            "children": [
              "IPY_MODEL_a122ab7888864e629edbca944038bdfc",
              "IPY_MODEL_91e04617cd024afebbce939c990ef430",
              "IPY_MODEL_d3a93a1cf44c46cfa048174236f27b32"
            ],
            "layout": "IPY_MODEL_346690a2dfc141ad86659ca930697569"
          }
        },
        "a122ab7888864e629edbca944038bdfc": {
          "model_module": "@jupyter-widgets/controls",
          "model_name": "HTMLModel",
          "model_module_version": "1.5.0",
          "state": {
            "_dom_classes": [],
            "_model_module": "@jupyter-widgets/controls",
            "_model_module_version": "1.5.0",
            "_model_name": "HTMLModel",
            "_view_count": null,
            "_view_module": "@jupyter-widgets/controls",
            "_view_module_version": "1.5.0",
            "_view_name": "HTMLView",
            "description": "",
            "description_tooltip": null,
            "layout": "IPY_MODEL_d18ded00004f42cf82e307a72ad75690",
            "placeholder": "​",
            "style": "IPY_MODEL_46c833a2624a4a33bda005e7f747d9b6",
            "value": "model.safetensors: 100%"
          }
        },
        "91e04617cd024afebbce939c990ef430": {
          "model_module": "@jupyter-widgets/controls",
          "model_name": "FloatProgressModel",
          "model_module_version": "1.5.0",
          "state": {
            "_dom_classes": [],
            "_model_module": "@jupyter-widgets/controls",
            "_model_module_version": "1.5.0",
            "_model_name": "FloatProgressModel",
            "_view_count": null,
            "_view_module": "@jupyter-widgets/controls",
            "_view_module_version": "1.5.0",
            "_view_name": "ProgressView",
            "bar_style": "success",
            "description": "",
            "description_tooltip": null,
            "layout": "IPY_MODEL_7e1ee40854af4f7185ea0530300d3f79",
            "max": 440449768,
            "min": 0,
            "orientation": "horizontal",
            "style": "IPY_MODEL_d57b65a99f2a4d6cbdc0db6ccf210229",
            "value": 440449768
          }
        },
        "d3a93a1cf44c46cfa048174236f27b32": {
          "model_module": "@jupyter-widgets/controls",
          "model_name": "HTMLModel",
          "model_module_version": "1.5.0",
          "state": {
            "_dom_classes": [],
            "_model_module": "@jupyter-widgets/controls",
            "_model_module_version": "1.5.0",
            "_model_name": "HTMLModel",
            "_view_count": null,
            "_view_module": "@jupyter-widgets/controls",
            "_view_module_version": "1.5.0",
            "_view_name": "HTMLView",
            "description": "",
            "description_tooltip": null,
            "layout": "IPY_MODEL_2acb0bc233a14e47831c2894b13c92cb",
            "placeholder": "​",
            "style": "IPY_MODEL_73e89b101ece4035b8ffca0e96fbc841",
            "value": " 440M/440M [00:02&lt;00:00, 238MB/s]"
          }
        },
        "346690a2dfc141ad86659ca930697569": {
          "model_module": "@jupyter-widgets/base",
          "model_name": "LayoutModel",
          "model_module_version": "1.2.0",
          "state": {
            "_model_module": "@jupyter-widgets/base",
            "_model_module_version": "1.2.0",
            "_model_name": "LayoutModel",
            "_view_count": null,
            "_view_module": "@jupyter-widgets/base",
            "_view_module_version": "1.2.0",
            "_view_name": "LayoutView",
            "align_content": null,
            "align_items": null,
            "align_self": null,
            "border": null,
            "bottom": null,
            "display": null,
            "flex": null,
            "flex_flow": null,
            "grid_area": null,
            "grid_auto_columns": null,
            "grid_auto_flow": null,
            "grid_auto_rows": null,
            "grid_column": null,
            "grid_gap": null,
            "grid_row": null,
            "grid_template_areas": null,
            "grid_template_columns": null,
            "grid_template_rows": null,
            "height": null,
            "justify_content": null,
            "justify_items": null,
            "left": null,
            "margin": null,
            "max_height": null,
            "max_width": null,
            "min_height": null,
            "min_width": null,
            "object_fit": null,
            "object_position": null,
            "order": null,
            "overflow": null,
            "overflow_x": null,
            "overflow_y": null,
            "padding": null,
            "right": null,
            "top": null,
            "visibility": null,
            "width": null
          }
        },
        "d18ded00004f42cf82e307a72ad75690": {
          "model_module": "@jupyter-widgets/base",
          "model_name": "LayoutModel",
          "model_module_version": "1.2.0",
          "state": {
            "_model_module": "@jupyter-widgets/base",
            "_model_module_version": "1.2.0",
            "_model_name": "LayoutModel",
            "_view_count": null,
            "_view_module": "@jupyter-widgets/base",
            "_view_module_version": "1.2.0",
            "_view_name": "LayoutView",
            "align_content": null,
            "align_items": null,
            "align_self": null,
            "border": null,
            "bottom": null,
            "display": null,
            "flex": null,
            "flex_flow": null,
            "grid_area": null,
            "grid_auto_columns": null,
            "grid_auto_flow": null,
            "grid_auto_rows": null,
            "grid_column": null,
            "grid_gap": null,
            "grid_row": null,
            "grid_template_areas": null,
            "grid_template_columns": null,
            "grid_template_rows": null,
            "height": null,
            "justify_content": null,
            "justify_items": null,
            "left": null,
            "margin": null,
            "max_height": null,
            "max_width": null,
            "min_height": null,
            "min_width": null,
            "object_fit": null,
            "object_position": null,
            "order": null,
            "overflow": null,
            "overflow_x": null,
            "overflow_y": null,
            "padding": null,
            "right": null,
            "top": null,
            "visibility": null,
            "width": null
          }
        },
        "46c833a2624a4a33bda005e7f747d9b6": {
          "model_module": "@jupyter-widgets/controls",
          "model_name": "DescriptionStyleModel",
          "model_module_version": "1.5.0",
          "state": {
            "_model_module": "@jupyter-widgets/controls",
            "_model_module_version": "1.5.0",
            "_model_name": "DescriptionStyleModel",
            "_view_count": null,
            "_view_module": "@jupyter-widgets/base",
            "_view_module_version": "1.2.0",
            "_view_name": "StyleView",
            "description_width": ""
          }
        },
        "7e1ee40854af4f7185ea0530300d3f79": {
          "model_module": "@jupyter-widgets/base",
          "model_name": "LayoutModel",
          "model_module_version": "1.2.0",
          "state": {
            "_model_module": "@jupyter-widgets/base",
            "_model_module_version": "1.2.0",
            "_model_name": "LayoutModel",
            "_view_count": null,
            "_view_module": "@jupyter-widgets/base",
            "_view_module_version": "1.2.0",
            "_view_name": "LayoutView",
            "align_content": null,
            "align_items": null,
            "align_self": null,
            "border": null,
            "bottom": null,
            "display": null,
            "flex": null,
            "flex_flow": null,
            "grid_area": null,
            "grid_auto_columns": null,
            "grid_auto_flow": null,
            "grid_auto_rows": null,
            "grid_column": null,
            "grid_gap": null,
            "grid_row": null,
            "grid_template_areas": null,
            "grid_template_columns": null,
            "grid_template_rows": null,
            "height": null,
            "justify_content": null,
            "justify_items": null,
            "left": null,
            "margin": null,
            "max_height": null,
            "max_width": null,
            "min_height": null,
            "min_width": null,
            "object_fit": null,
            "object_position": null,
            "order": null,
            "overflow": null,
            "overflow_x": null,
            "overflow_y": null,
            "padding": null,
            "right": null,
            "top": null,
            "visibility": null,
            "width": null
          }
        },
        "d57b65a99f2a4d6cbdc0db6ccf210229": {
          "model_module": "@jupyter-widgets/controls",
          "model_name": "ProgressStyleModel",
          "model_module_version": "1.5.0",
          "state": {
            "_model_module": "@jupyter-widgets/controls",
            "_model_module_version": "1.5.0",
            "_model_name": "ProgressStyleModel",
            "_view_count": null,
            "_view_module": "@jupyter-widgets/base",
            "_view_module_version": "1.2.0",
            "_view_name": "StyleView",
            "bar_color": null,
            "description_width": ""
          }
        },
        "2acb0bc233a14e47831c2894b13c92cb": {
          "model_module": "@jupyter-widgets/base",
          "model_name": "LayoutModel",
          "model_module_version": "1.2.0",
          "state": {
            "_model_module": "@jupyter-widgets/base",
            "_model_module_version": "1.2.0",
            "_model_name": "LayoutModel",
            "_view_count": null,
            "_view_module": "@jupyter-widgets/base",
            "_view_module_version": "1.2.0",
            "_view_name": "LayoutView",
            "align_content": null,
            "align_items": null,
            "align_self": null,
            "border": null,
            "bottom": null,
            "display": null,
            "flex": null,
            "flex_flow": null,
            "grid_area": null,
            "grid_auto_columns": null,
            "grid_auto_flow": null,
            "grid_auto_rows": null,
            "grid_column": null,
            "grid_gap": null,
            "grid_row": null,
            "grid_template_areas": null,
            "grid_template_columns": null,
            "grid_template_rows": null,
            "height": null,
            "justify_content": null,
            "justify_items": null,
            "left": null,
            "margin": null,
            "max_height": null,
            "max_width": null,
            "min_height": null,
            "min_width": null,
            "object_fit": null,
            "object_position": null,
            "order": null,
            "overflow": null,
            "overflow_x": null,
            "overflow_y": null,
            "padding": null,
            "right": null,
            "top": null,
            "visibility": null,
            "width": null
          }
        },
        "73e89b101ece4035b8ffca0e96fbc841": {
          "model_module": "@jupyter-widgets/controls",
          "model_name": "DescriptionStyleModel",
          "model_module_version": "1.5.0",
          "state": {
            "_model_module": "@jupyter-widgets/controls",
            "_model_module_version": "1.5.0",
            "_model_name": "DescriptionStyleModel",
            "_view_count": null,
            "_view_module": "@jupyter-widgets/base",
            "_view_module_version": "1.2.0",
            "_view_name": "StyleView",
            "description_width": ""
          }
        }
      }
    }
  },
  "cells": [
    {
      "cell_type": "markdown",
      "source": [
        "\n",
        "You're removing older or conflicting versions of the following libraries:\n",
        "\n",
        "pycaret: A low-code machine learning library.\n",
        "\n",
        "sktime: A library for time series analysis.\n",
        "\n",
        "pandas: For data manipulation and analysis.\n",
        "\n",
        "matplotlib: For plotting/visualization.\n",
        "\n",
        "numpy: For numerical operations.\n",
        "\n",
        "transformers: From HuggingFace, used for NLP and deep learning models.\n",
        "---\n",
        "\n"
      ],
      "metadata": {
        "id": "hSZypxY3ipty"
      }
    },
    {
      "cell_type": "code",
      "source": [
        "!pip install kafka-python transformers\n"
      ],
      "metadata": {
        "colab": {
          "base_uri": "https://localhost:8080/"
        },
        "id": "VIQAqswVId0t",
        "outputId": "9c032952-b53f-4cc5-87c8-72b02a5ac2d2"
      },
      "execution_count": null,
      "outputs": [
        {
          "output_type": "stream",
          "name": "stdout",
          "text": [
            "Collecting kafka-python\n",
            "  Downloading kafka_python-2.1.5-py2.py3-none-any.whl.metadata (9.2 kB)\n",
            "Requirement already satisfied: transformers in /usr/local/lib/python3.11/dist-packages (4.51.3)\n",
            "Requirement already satisfied: filelock in /usr/local/lib/python3.11/dist-packages (from transformers) (3.18.0)\n",
            "Requirement already satisfied: huggingface-hub<1.0,>=0.30.0 in /usr/local/lib/python3.11/dist-packages (from transformers) (0.30.2)\n",
            "Requirement already satisfied: numpy>=1.17 in /usr/local/lib/python3.11/dist-packages (from transformers) (2.0.2)\n",
            "Requirement already satisfied: packaging>=20.0 in /usr/local/lib/python3.11/dist-packages (from transformers) (24.2)\n",
            "Requirement already satisfied: pyyaml>=5.1 in /usr/local/lib/python3.11/dist-packages (from transformers) (6.0.2)\n",
            "Requirement already satisfied: regex!=2019.12.17 in /usr/local/lib/python3.11/dist-packages (from transformers) (2024.11.6)\n",
            "Requirement already satisfied: requests in /usr/local/lib/python3.11/dist-packages (from transformers) (2.32.3)\n",
            "Requirement already satisfied: tokenizers<0.22,>=0.21 in /usr/local/lib/python3.11/dist-packages (from transformers) (0.21.1)\n",
            "Requirement already satisfied: safetensors>=0.4.3 in /usr/local/lib/python3.11/dist-packages (from transformers) (0.5.3)\n",
            "Requirement already satisfied: tqdm>=4.27 in /usr/local/lib/python3.11/dist-packages (from transformers) (4.67.1)\n",
            "Requirement already satisfied: fsspec>=2023.5.0 in /usr/local/lib/python3.11/dist-packages (from huggingface-hub<1.0,>=0.30.0->transformers) (2025.3.2)\n",
            "Requirement already satisfied: typing-extensions>=3.7.4.3 in /usr/local/lib/python3.11/dist-packages (from huggingface-hub<1.0,>=0.30.0->transformers) (4.13.2)\n",
            "Requirement already satisfied: charset-normalizer<4,>=2 in /usr/local/lib/python3.11/dist-packages (from requests->transformers) (3.4.1)\n",
            "Requirement already satisfied: idna<4,>=2.5 in /usr/local/lib/python3.11/dist-packages (from requests->transformers) (3.10)\n",
            "Requirement already satisfied: urllib3<3,>=1.21.1 in /usr/local/lib/python3.11/dist-packages (from requests->transformers) (2.3.0)\n",
            "Requirement already satisfied: certifi>=2017.4.17 in /usr/local/lib/python3.11/dist-packages (from requests->transformers) (2025.1.31)\n",
            "Downloading kafka_python-2.1.5-py2.py3-none-any.whl (285 kB)\n",
            "\u001b[2K   \u001b[90m━━━━━━━━━━━━━━━━━━━━━━━━━━━━━━━━━━━━━━━━\u001b[0m \u001b[32m285.4/285.4 kB\u001b[0m \u001b[31m4.4 MB/s\u001b[0m eta \u001b[36m0:00:00\u001b[0m\n",
            "\u001b[?25hInstalling collected packages: kafka-python\n",
            "Successfully installed kafka-python-2.1.5\n"
          ]
        }
      ]
    },
    {
      "cell_type": "code",
      "execution_count": null,
      "metadata": {
        "colab": {
          "base_uri": "https://localhost:8080/"
        },
        "id": "GDpq1EBBxBBo",
        "outputId": "a520f736-2dc0-422a-c449-b744114aa110"
      },
      "outputs": [
        {
          "output_type": "stream",
          "name": "stdout",
          "text": [
            "\u001b[33mWARNING: Skipping pycaret as it is not installed.\u001b[0m\u001b[33m\n",
            "\u001b[0m\u001b[33mWARNING: Skipping sktime as it is not installed.\u001b[0m\u001b[33m\n",
            "\u001b[0m\u001b[31mERROR: pip's dependency resolver does not currently take into account all the packages that are installed. This behaviour is the source of the following dependency conflicts.\n",
            "sentence-transformers 3.4.1 requires transformers<5.0.0,>=4.41.0, but you have transformers 4.40.1 which is incompatible.\n",
            "thinc 8.3.6 requires numpy<3.0.0,>=2.0.0, but you have numpy 1.26.4 which is incompatible.\u001b[0m\u001b[31m\n",
            "\u001b[0m"
          ]
        }
      ],
      "source": [
        "# Clean install of compatible libraries\n",
        "!pip uninstall -y pycaret sktime pandas matplotlib numpy transformers -q\n",
        "!pip install pandas==2.2.2 matplotlib==3.8.0 numpy==1.26.4 transformers==4.40.1 pyspark==3.5.1 -q\n"
      ]
    },
    {
      "cell_type": "code",
      "source": [
        "# Install only needed versions that work together\n",
        "!pip install numpy==1.26.4 pandas==2.2.2 matplotlib==3.8.0 transformers==4.40.1 pyspark==3.5.1 -q\n"
      ],
      "metadata": {
        "id": "sN2wnFhbyGEq"
      },
      "execution_count": null,
      "outputs": []
    },
    {
      "cell_type": "markdown",
      "source": [
        "torch: Core PyTorch library, handles tensors, automatic differentiation (backprop), GPU operations.\n",
        "\n",
        "torch.nn: Contains neural network layers and utilities (like nn.Linear, nn.CrossEntropyLoss, etc.).\n",
        "train_test_split: Splits your dataset into training and test sets.\n",
        "\n",
        "classification_report: Gives precision, recall, F1-score, and accuracy for model evaluation.\n",
        "AutoModel: Automatically loads the correct BERT-like model architecture (e.g., BERT, RoBERTa, DistilBERT).\n",
        "\n",
        "BertTokenizerFast: Fast tokenizer for BERT-based models to convert text into token IDs.\n",
        "\n",
        "AdamW: Adam optimizer with weight decay (better for transformers than plain Adam).\n",
        "SparkSession: Entry point to use DataFrame and SQL APIs in PySpark. You need this to load and manipulate large-scale data (especially for streaming or distributed tasks).\n",
        "\n",
        "lit(): A function to add constant columns or values in a DataFrame. For example:"
      ],
      "metadata": {
        "id": "WsxSVn0_i-MA"
      }
    },
    {
      "cell_type": "code",
      "source": [
        "import numpy as np\n",
        "import pandas as pd\n",
        "import matplotlib.pyplot as plt\n",
        "import torch\n",
        "import torch.nn as nn\n",
        "from sklearn.metrics import classification_report\n",
        "from sklearn.model_selection import train_test_split\n",
        "from transformers import AutoModel, BertTokenizerFast\n",
        "from transformers.optimization import AdamW\n",
        "from torch.utils.data import TensorDataset, DataLoader, RandomSampler, SequentialSampler\n",
        "from pyspark.sql import SparkSession\n",
        "from pyspark.sql.functions import lit"
      ],
      "metadata": {
        "id": "leJ-JNWuxGks"
      },
      "execution_count": null,
      "outputs": []
    },
    {
      "cell_type": "markdown",
      "source": [
        "creating spark session\n"
      ],
      "metadata": {
        "id": "6mltq_GRjYKp"
      }
    },
    {
      "cell_type": "code",
      "source": [
        "# Start Spark session\n",
        "spark = SparkSession.builder.appName(\"FakeNewsDetection\").getOrCreate()\n"
      ],
      "metadata": {
        "id": "Nwhc8bW_yj8e"
      },
      "execution_count": null,
      "outputs": []
    },
    {
      "cell_type": "code",
      "source": [
        "# Load datasets with Spark\n",
        "true_data = spark.read.csv('/content/a1_True (1).csv', header=True, inferSchema=True)\n",
        "fake_data = spark.read.csv('/content/a2_Fake.csv', header=True, inferSchema=True)"
      ],
      "metadata": {
        "id": "q_wYl1g1ykbJ"
      },
      "execution_count": null,
      "outputs": []
    },
    {
      "cell_type": "code",
      "source": [
        "# Add labels\n",
        "true_data = true_data.withColumn(\"Target\", lit(\"True\"))\n",
        "fake_data = fake_data.withColumn(\"Target\", lit(\"Fake\"))"
      ],
      "metadata": {
        "id": "p-QcQR_9zNnA"
      },
      "execution_count": null,
      "outputs": []
    },
    {
      "cell_type": "markdown",
      "source": [
        "Merges the two Spark DataFrames (true_data and fake_data) into one.\n",
        "\n",
        "Converts the Spark DataFrame into a Pandas DataFrame so you can use it with libraries like transformers, sklearn, and torch."
      ],
      "metadata": {
        "id": "37TU5p_xkIAk"
      }
    },
    {
      "cell_type": "code",
      "source": [
        "# Merge and convert to Pandas\n",
        "data = true_data.union(fake_data).toPandas()\n",
        "data = data.sample(frac=1).reset_index(drop=True)\n",
        "data['label'] = pd.get_dummies(data.Target)['Fake']"
      ],
      "metadata": {
        "id": "EVW69QtjzQnk"
      },
      "execution_count": null,
      "outputs": []
    },
    {
      "cell_type": "markdown",
      "source": [
        "splitting the dataset into training, validation, and test sets — and you're doing it correctly using stratified sampling. Here's what each line does in detail:\n",
        "\n"
      ],
      "metadata": {
        "id": "RB-vLQz_kpxG"
      }
    },
    {
      "cell_type": "code",
      "source": [
        "# Data split\n",
        "train_text, temp_text, train_labels, temp_labels = train_test_split(data['title'], data['label'], random_state=2018, test_size=0.3, stratify=data['Target'])\n",
        "val_text, test_text, val_labels, test_labels = train_test_split(temp_text, temp_labels, random_state=2018, test_size=0.5, stratify=temp_labels)\n"
      ],
      "metadata": {
        "id": "20lkB_wAzVTo"
      },
      "execution_count": null,
      "outputs": []
    },
    {
      "cell_type": "markdown",
      "source": [
        "Loads the fast version of BERT tokenizer (bert-base-uncased).\n",
        "\n",
        "\"Uncased\" means it converts all text to lowercase and removes case sensitivity.\n",
        "\n",
        "The fast tokenizer is implemented using the HuggingFace tokenizers library — it's optimized for speed."
      ],
      "metadata": {
        "id": "1VykUGLek3pd"
      }
    },
    {
      "cell_type": "markdown",
      "source": [
        "bert = AutoModel.from_pretrained('bert-base-uncased')\n",
        "Loads the pretrained BERT model architecture and weights (no classification head — just embeddings/output layers).\n",
        "\n",
        "Used to extract contextual embeddings from input text."
      ],
      "metadata": {
        "id": "fdAt_Pw6lEYs"
      }
    },
    {
      "cell_type": "markdown",
      "source": [
        "MAX_LENGTH = 15\n",
        "This sets the maximum number of tokens BERT will process per input.\n",
        "\n",
        "For BERT, max can go up to 512, but shorter is faster.\n",
        "\n",
        "15 is very short — works for short texts like titles but might cut off longer ones.\n",
        "\n"
      ],
      "metadata": {
        "id": "6HxsmShLlNFh"
      }
    },
    {
      "cell_type": "code",
      "source": [
        "# Load BERT tokenizer and model\n",
        "tokenizer = BertTokenizerFast.from_pretrained('bert-base-uncased')\n",
        "bert = AutoModel.from_pretrained('bert-base-uncased')\n",
        "\n",
        "MAX_LENGTH = 15"
      ],
      "metadata": {
        "colab": {
          "base_uri": "https://localhost:8080/",
          "height": 405,
          "referenced_widgets": [
            "afae5b0dbba24e14bf7ba7b51635c5d2",
            "6870b010c5ea4c2b9c8427000058e915",
            "a5ac00241850476a934ca642168f2f07",
            "8271267c34ee41fda3158a64d1e307ee",
            "318ef6d4bdc84c2ab6035b1ae3788d7e",
            "500667614e59449e8d7fcb8124f1e061",
            "bc6655db9a2849ada05f25dfad62fbfe",
            "644c65b963af4b0dae0810c805fe2fb7",
            "00cfe7a733174c0ebb97f4057f192d80",
            "2488a61a30b94db89e66c208b9a4122e",
            "8788b4e7ffb14e3d920e543beb8aa2fa",
            "d793e0a51cf845c0a2d71a85ab700029",
            "c7ba45821f85495ea9735b0b0fe94b81",
            "057387f20a664687b7057cecc6d455b3",
            "658f421b8bb0433abb381e0dd3cc84fa",
            "95d34668c3f14d64bddfc803a796161c",
            "9d281076c9124408875a535ce37f65bb",
            "e2406dcc75474515aee756f5495334ff",
            "04d7c652e15f4cb1971693b4a6f9d57b",
            "af45290079544908a691ef489605973f",
            "23f0020615484b789c2885dbcd0aedfb",
            "29f80b8c811f43158933d1ef7a2f6c8b",
            "752347c4c8cd42608a8c3cb593067f6e",
            "1a94e7ec8107498ba2d59f57c759455e",
            "505af5108e0e4905989f6cd4070f5c13",
            "5217453131b04a3c819fae0598b5b35a",
            "46239f9a4b2a4458a2270ac2048ed6f7",
            "7758315533fd489d802f12c9ca94c367",
            "cc678ab744ec4152aefab7b9c7324347",
            "c5ced4f3808645518b28a601bf845b9d",
            "54278360da1c4db8830899e999ec239c",
            "ea95be69c4184697852e50a84223c97a",
            "6c5d240d5725421cae3b19ece423a119",
            "64c59978b6f941aea8a6da956da18f1b",
            "f1cff41227ab4702872df8868cbe6d06",
            "d01ab02a7ce04a45b5810a555384e673",
            "2e7289ba570b440998f449a14914c42e",
            "86e16a4ec8844f619ca7ef9bb1d1b1fb",
            "7d3ee47ccd9645e1b85f0519e2c637fb",
            "3a32cf07179a4a15b728d506fc9f8b9a",
            "a835457c7b3e43cb8e8433be1a656545",
            "62cc1bce6a114b0d88d90699c9b32545",
            "3d749faab9394a23bb66252b754de55f",
            "7434607aa63a44458c9a9f8366ea8c1d",
            "28a99985b532456fa12cd0507c8d1a45",
            "a122ab7888864e629edbca944038bdfc",
            "91e04617cd024afebbce939c990ef430",
            "d3a93a1cf44c46cfa048174236f27b32",
            "346690a2dfc141ad86659ca930697569",
            "d18ded00004f42cf82e307a72ad75690",
            "46c833a2624a4a33bda005e7f747d9b6",
            "7e1ee40854af4f7185ea0530300d3f79",
            "d57b65a99f2a4d6cbdc0db6ccf210229",
            "2acb0bc233a14e47831c2894b13c92cb",
            "73e89b101ece4035b8ffca0e96fbc841"
          ]
        },
        "id": "nR5S3zqJzY3x",
        "outputId": "37371421-0107-4bab-e45f-7b5b7bfdd18b"
      },
      "execution_count": null,
      "outputs": [
        {
          "output_type": "stream",
          "name": "stderr",
          "text": [
            "/usr/local/lib/python3.11/dist-packages/huggingface_hub/file_download.py:896: FutureWarning: `resume_download` is deprecated and will be removed in version 1.0.0. Downloads always resume when possible. If you want to force a new download, use `force_download=True`.\n",
            "  warnings.warn(\n",
            "/usr/local/lib/python3.11/dist-packages/huggingface_hub/utils/_auth.py:94: UserWarning: \n",
            "The secret `HF_TOKEN` does not exist in your Colab secrets.\n",
            "To authenticate with the Hugging Face Hub, create a token in your settings tab (https://huggingface.co/settings/tokens), set it as secret in your Google Colab and restart your session.\n",
            "You will be able to reuse this secret in all of your notebooks.\n",
            "Please note that authentication is recommended but still optional to access public models or datasets.\n",
            "  warnings.warn(\n"
          ]
        },
        {
          "output_type": "display_data",
          "data": {
            "text/plain": [
              "tokenizer_config.json:   0%|          | 0.00/48.0 [00:00<?, ?B/s]"
            ],
            "application/vnd.jupyter.widget-view+json": {
              "version_major": 2,
              "version_minor": 0,
              "model_id": "afae5b0dbba24e14bf7ba7b51635c5d2"
            }
          },
          "metadata": {}
        },
        {
          "output_type": "display_data",
          "data": {
            "text/plain": [
              "vocab.txt:   0%|          | 0.00/232k [00:00<?, ?B/s]"
            ],
            "application/vnd.jupyter.widget-view+json": {
              "version_major": 2,
              "version_minor": 0,
              "model_id": "d793e0a51cf845c0a2d71a85ab700029"
            }
          },
          "metadata": {}
        },
        {
          "output_type": "display_data",
          "data": {
            "text/plain": [
              "tokenizer.json:   0%|          | 0.00/466k [00:00<?, ?B/s]"
            ],
            "application/vnd.jupyter.widget-view+json": {
              "version_major": 2,
              "version_minor": 0,
              "model_id": "752347c4c8cd42608a8c3cb593067f6e"
            }
          },
          "metadata": {}
        },
        {
          "output_type": "display_data",
          "data": {
            "text/plain": [
              "config.json:   0%|          | 0.00/570 [00:00<?, ?B/s]"
            ],
            "application/vnd.jupyter.widget-view+json": {
              "version_major": 2,
              "version_minor": 0,
              "model_id": "64c59978b6f941aea8a6da956da18f1b"
            }
          },
          "metadata": {}
        },
        {
          "output_type": "stream",
          "name": "stderr",
          "text": [
            "/usr/local/lib/python3.11/dist-packages/huggingface_hub/file_download.py:896: FutureWarning: `resume_download` is deprecated and will be removed in version 1.0.0. Downloads always resume when possible. If you want to force a new download, use `force_download=True`.\n",
            "  warnings.warn(\n",
            "Xet Storage is enabled for this repo, but the 'hf_xet' package is not installed. Falling back to regular HTTP download. For better performance, install the package with: `pip install huggingface_hub[hf_xet]` or `pip install hf_xet`\n",
            "WARNING:huggingface_hub.file_download:Xet Storage is enabled for this repo, but the 'hf_xet' package is not installed. Falling back to regular HTTP download. For better performance, install the package with: `pip install huggingface_hub[hf_xet]` or `pip install hf_xet`\n"
          ]
        },
        {
          "output_type": "display_data",
          "data": {
            "text/plain": [
              "model.safetensors:   0%|          | 0.00/440M [00:00<?, ?B/s]"
            ],
            "application/vnd.jupyter.widget-view+json": {
              "version_major": 2,
              "version_minor": 0,
              "model_id": "28a99985b532456fa12cd0507c8d1a45"
            }
          },
          "metadata": {}
        }
      ]
    },
    {
      "cell_type": "markdown",
      "source": [
        "You're using batch_encode_plus to:\n",
        "\n",
        "Convert lists of text into BERT token IDs\n",
        "\n",
        "Pad and truncate all sequences to length MAX_LENGTH\n",
        "\n",
        "Apply this for train, validation, and test sets"
      ],
      "metadata": {
        "id": "-aWrh4MYlgUi"
      }
    },
    {
      "cell_type": "code",
      "source": [
        "# Tokenization\n",
        "tokens_train = tokenizer.batch_encode_plus(train_text.tolist(), max_length=MAX_LENGTH, pad_to_max_length=True, truncation=True)\n",
        "tokens_val = tokenizer.batch_encode_plus(val_text.tolist(), max_length=MAX_LENGTH, pad_to_max_length=True, truncation=True)\n",
        "tokens_test = tokenizer.batch_encode_plus(test_text.tolist(), max_length=MAX_LENGTH, pad_to_max_length=True, truncation=True)\n"
      ],
      "metadata": {
        "colab": {
          "base_uri": "https://localhost:8080/"
        },
        "id": "_QxSFNC4ze9W",
        "outputId": "e9e102cb-62f5-40c6-8eee-0ead19be14b1"
      },
      "execution_count": null,
      "outputs": [
        {
          "output_type": "stream",
          "name": "stderr",
          "text": [
            "/usr/local/lib/python3.11/dist-packages/transformers/tokenization_utils_base.py:2674: FutureWarning: The `pad_to_max_length` argument is deprecated and will be removed in a future version, use `padding=True` or `padding='longest'` to pad to the longest sequence in the batch, or use `padding='max_length'` to pad to a max length. In this case, you can give a specific length with `max_length` (e.g. `max_length=45`) or leave max_length to None to pad to the maximal input size of the model (e.g. 512 for Bert).\n",
            "  warnings.warn(\n"
          ]
        }
      ]
    },
    {
      "cell_type": "markdown",
      "source": [
        "A tensor is a multidimensional array that is used extensively in machine learning and deep learning for representing data and model parameters. Think of it as an extension of arrays (like NumPy arrays) but optimized for GPU computation and automatic differentiation in deep learning frameworks such as PyTorch and TensorFlow."
      ],
      "metadata": {
        "id": "_nIO6CuBoDum"
      }
    },
    {
      "cell_type": "markdown",
      "source": [
        "Higher-dimensional tensors: Arrays with more than two dimensions (3D, 4D, etc.).\n",
        "\n"
      ],
      "metadata": {
        "id": "m1JTMO-UoLKi"
      }
    },
    {
      "cell_type": "code",
      "source": [
        "# Convert to tensors\n",
        "train_seq = torch.tensor(tokens_train['input_ids'])\n",
        "train_mask = torch.tensor(tokens_train['attention_mask'])\n",
        "train_y = torch.tensor(train_labels.tolist())\n"
      ],
      "metadata": {
        "id": "WE3-5czjzmeb"
      },
      "execution_count": null,
      "outputs": []
    },
    {
      "cell_type": "markdown",
      "source": [
        "similarly converting validation and testing data into tensors\n"
      ],
      "metadata": {
        "id": "zHadQjwBoOVE"
      }
    },
    {
      "cell_type": "code",
      "source": [
        "val_seq = torch.tensor(tokens_val['input_ids'])\n",
        "val_mask = torch.tensor(tokens_val['attention_mask'])\n",
        "val_y = torch.tensor(val_labels.tolist())\n",
        "\n",
        "test_seq = torch.tensor(tokens_test['input_ids'])\n",
        "test_mask = torch.tensor(tokens_test['attention_mask'])\n",
        "test_y = torch.tensor(test_labels.tolist())"
      ],
      "metadata": {
        "id": "mnUxpTzOzrWL"
      },
      "execution_count": null,
      "outputs": []
    },
    {
      "cell_type": "markdown",
      "source": [
        "TensorDataset: A PyTorch dataset that combines your input sequences (train_seq), attention masks (train_mask), and labels (train_y) into a single dataset object.\n",
        "\n",
        "RandomSampler: This sampler shuffles the data every time it's used, ensuring your model doesn't learn any patterns based on the order of data.\n",
        "\n",
        "ataLoader: A PyTorch class that manages the batching of the data. It automatically handles:\n",
        "\n",
        "Shuffling (via the sampler)\n",
        "\n",
        "Loading batches of data of size batch_size\n",
        "\n",
        "Returning the data in batches for model training"
      ],
      "metadata": {
        "id": "eQTEDIvBo0bw"
      }
    },
    {
      "cell_type": "code",
      "source": [
        "# DataLoader setup\n",
        "batch_size = 32\n",
        "train_data = TensorDataset(train_seq, train_mask, train_y)\n",
        "train_sampler = RandomSampler(train_data)\n",
        "train_dataloader = DataLoader(train_data, sampler=train_sampler, batch_size=batch_size)\n",
        "\n",
        "val_data = TensorDataset(val_seq, val_mask, val_y)\n",
        "val_sampler = SequentialSampler(val_data)\n",
        "val_dataloader = DataLoader(val_data, sampler=val_sampler, batch_size=batch_size)\n"
      ],
      "metadata": {
        "id": "oDDB4i85zuxb"
      },
      "execution_count": null,
      "outputs": []
    },
    {
      "cell_type": "markdown",
      "source": [
        "bert.parameters(): This returns all the parameters (weights and biases) of the BERT model.\n",
        "\n",
        "param.requires_grad = True: This tells PyTorch to  compute gradients for these parameters during backpropagation. This effectively  updates weights and bias during training."
      ],
      "metadata": {
        "id": "65ybopRwqaex"
      }
    },
    {
      "cell_type": "code",
      "source": [
        "# Freeze BERT weights\n",
        "for param in bert.parameters():\n",
        "    param.requires_grad = True"
      ],
      "metadata": {
        "id": "e4WLeZeTzyLU"
      },
      "execution_count": null,
      "outputs": []
    },
    {
      "cell_type": "code",
      "source": [
        "class BERT_Arch(nn.Module):\n",
        "    def __init__(self, bert):\n",
        "        super(BERT_Arch, self).__init__()\n",
        "        self.bert = bert  # Pretrained BERT model\n",
        "        self.dropout = nn.Dropout(0.1)  # Dropout layer to prevent overfitting\n",
        "        self.relu = nn.ReLU()  # ReLU activation function\n",
        "        self.fc1 = nn.Linear(768, 512)  # Fully connected layer (input: 768, output: 512)\n",
        "        self.fc2 = nn.Linear(512, 2)  # Final output layer (output 2 classes: Fake/Real)\n",
        "        self.softmax = nn.LogSoftmax(dim=1)  # LogSoftmax for classification (cross-entropy)\n",
        "\n",
        "    def forward(self, sent_id, mask):\n",
        "        # Forward pass through BERT and take the pooled output (CLS token representation)\n",
        "        cls_hs = self.bert(sent_id, attention_mask=mask)['pooler_output']\n",
        "\n",
        "        # Pass through the fully connected layers with ReLU and Dropout\n",
        "        x = self.fc1(cls_hs)\n",
        "        x = self.relu(x)\n",
        "        x = self.dropout(x)\n",
        "        x = self.fc2(x)\n",
        "\n",
        "        # Apply Softmax to get the class probabilities (Fake or Real)\n",
        "        x = self.softmax(x)\n",
        "        return x\n"
      ],
      "metadata": {
        "id": "lKwo0SCFz10k"
      },
      "execution_count": null,
      "outputs": []
    },
    {
      "cell_type": "markdown",
      "source": [
        "model = BERT_Arch(bert)\n",
        "BERT_Arch(bert): You are initializing your custom BERT_Arch model, passing the pretrained BERT model (bert) as an argument.\n",
        "\n",
        "This custom model includes BERT as the feature extractor and adds fully connected layers for classification (Fake vs. Real).\n",
        "\n",
        "torch.device(\"cuda\" if torch.cuda.is_available() else \"cpu\"): This checks if you have access to a GPU (via CUDA) for training. If yes, the model will run on the GPU, otherwise it will run on the CPU.\n",
        "\n",
        "model.to(device): Moves the model to the appropriate device (GPU or CPU).\n",
        "\n"
      ],
      "metadata": {
        "id": "2aHux9JArzoA"
      }
    },
    {
      "cell_type": "code",
      "source": [
        "# Initialize model\n",
        "model = BERT_Arch(bert)\n",
        "device = torch.device(\"cuda\" if torch.cuda.is_available() else \"cpu\")\n",
        "model = model.to(device)\n",
        "\n",
        "# Optimizer and loss\n",
        "optimizer = AdamW(model.parameters(), lr=1e-5)\n",
        "cross_entropy = nn.NLLLoss()\n",
        "epochs = 2"
      ],
      "metadata": {
        "colab": {
          "base_uri": "https://localhost:8080/"
        },
        "id": "ftsMUnLOz3JF",
        "outputId": "342b4ec8-9761-453b-cba7-df9823e80243"
      },
      "execution_count": null,
      "outputs": [
        {
          "output_type": "stream",
          "name": "stderr",
          "text": [
            "/usr/local/lib/python3.11/dist-packages/transformers/optimization.py:521: FutureWarning: This implementation of AdamW is deprecated and will be removed in a future version. Use the PyTorch implementation torch.optim.AdamW instead, or set `no_deprecation_warning=True` to disable this warning\n",
            "  warnings.warn(\n"
          ]
        }
      ]
    },
    {
      "cell_type": "markdown",
      "source": [
        "train_dataloader: The DataLoader object that provides batches of training data.\n",
        "\n",
        "enumerate(train_dataloader): Loops through the batches. step is the index, and batch is the data for the current batch.\n",
        "\n",
        "if step % 50 == 0 and step != 0:: Prints progress every 50 batches to give you an update on the training status."
      ],
      "metadata": {
        "id": "M8KAEqVnsr6g"
      }
    },
    {
      "cell_type": "markdown",
      "source": [
        "Moves all components of the batch (sent_id, mask, and labels) to the device (GPU or CPU).\n",
        "\n"
      ],
      "metadata": {
        "id": "tCZjKb1fs2Rx"
      }
    },
    {
      "cell_type": "markdown",
      "source": [
        "sent_id: The tokenized input sequence (IDs of words).\n",
        "\n",
        "mask: The attention mask, which tells the model which tokens to pay attention to.\n",
        "\n",
        "labels: The true labels (Fake/Real news).\n",
        "model.zero_grad(): Clears any gradients computed during the previous batch\n",
        "\n",
        "cross_entropy(preds, labels): Computes the loss between the model's predictions and the true labels using Negative Log-Likelihood Loss (NLLLoss).\n",
        "\n",
        "loss.backward(): Computes the gradients of the loss with respect to the model parameters.\n",
        "\n",
        "clip_grad_norm_: Prevents exploding gradients by clipping the gradients to a maximum norm of 1. This is useful when training large models like BERT, which can sometimes lead to very large gradients."
      ],
      "metadata": {
        "id": "rxR9ewZKtAyy"
      }
    },
    {
      "cell_type": "code",
      "source": [
        "# Training function\n",
        "def train():\n",
        "    model.train()\n",
        "    total_loss = 0\n",
        "    for step, batch in enumerate(train_dataloader):\n",
        "        if step % 50 == 0 and step != 0:\n",
        "            print(f\"  Batch {step}  of  {len(train_dataloader)}.\")\n",
        "        batch = [r.to(device) for r in batch]\n",
        "        sent_id, mask, labels = batch\n",
        "        labels = labels.long()\n",
        "        model.zero_grad()\n",
        "        preds = model(sent_id, mask)\n",
        "        loss = cross_entropy(preds, labels)\n",
        "        total_loss += loss.item()\n",
        "        loss.backward()\n",
        "        torch.nn.utils.clip_grad_norm_(model.parameters(), 1.0)\n",
        "        optimizer.step()\n",
        "    return total_loss / len(train_dataloader)"
      ],
      "metadata": {
        "id": "I_tE_yrNz_HZ"
      },
      "execution_count": null,
      "outputs": []
    },
    {
      "cell_type": "markdown",
      "source": [
        "with torch.no_grad(): This context manager disables gradient calculation, which reduces memory usage and speeds up the evaluation process, since no gradients are needed during validation or testing.\n",
        "\n",
        "Similar to the training loop, you're iterating over the validation data (val_dataloader).\n",
        "\n",
        "step % 50 == 0: Prints progress every 50 batches.\n",
        "\n",
        "Computes the loss between the predicted values (preds) and the true labels (labels).\n",
        "\n",
        "Passes the input through the model to get predictions (preds).\n",
        "\n",
        "Adds the current batch's loss to the cumulative total loss.\n",
        "\n",
        "Returns the average validation loss after going through all batches in the validation data.\n",
        "\n",
        "\n",
        "\n"
      ],
      "metadata": {
        "id": "beZl7L4AuC1K"
      }
    },
    {
      "cell_type": "code",
      "source": [
        "# Evaluation function\n",
        "def evaluate():\n",
        "    print(\"\\nEvaluating...\")\n",
        "    model.eval()\n",
        "    total_loss = 0\n",
        "    with torch.no_grad():\n",
        "        for step, batch in enumerate(val_dataloader):\n",
        "            if step % 50 == 0 and step != 0:\n",
        "                print(f\"  Batch {step}  of  {len(val_dataloader)}.\")\n",
        "            batch = [r.to(device) for r in batch]\n",
        "            sent_id, mask, labels = batch\n",
        "            labels = labels.long()\n",
        "            preds = model(sent_id, mask)\n",
        "            loss = cross_entropy(preds, labels)\n",
        "            total_loss += loss.item()\n",
        "    return total_loss / len(val_dataloader)\n",
        "\n",
        "# Training loop\n",
        "best_valid_loss = float('inf')\n",
        "train_losses = []\n",
        "valid_losses = []"
      ],
      "metadata": {
        "id": "tGkFhqJn0D0O"
      },
      "execution_count": null,
      "outputs": []
    },
    {
      "cell_type": "markdown",
      "source": [
        "Train: The train() function is called to train the model for one epoch.\n",
        "\n",
        "Evaluate: The evaluate() function is called to evaluate the model on the validation set.\n",
        "\n",
        "Model Saving: If the validation loss is lower than the best observed so far, the model is saved to disk as the best model."
      ],
      "metadata": {
        "id": "reL3MXJZyvnK"
      }
    },
    {
      "cell_type": "code",
      "source": [
        "\n",
        "for epoch in range(epochs):\n",
        "    print(f\"\\n Epoch {epoch + 1} / {epochs}\")\n",
        "    train_loss = train()\n",
        "    valid_loss = evaluate()\n",
        "\n",
        "    if valid_loss < best_valid_loss:\n",
        "        best_valid_loss = valid_loss\n",
        "        torch.save(model.state_dict(), 'c2_new_model_weights.pt')\n",
        "\n",
        "    train_losses.append(train_loss)\n",
        "    valid_losses.append(valid_loss)\n",
        "\n",
        "    print(f'Training Loss: {train_loss:.3f}')\n",
        "    print(f'Validation Loss: {valid_loss:.3f}')\n"
      ],
      "metadata": {
        "colab": {
          "base_uri": "https://localhost:8080/"
        },
        "id": "7m9bIPTZ0HmV",
        "outputId": "0e6d8252-e71b-45c6-d519-aa21bcd548d9"
      },
      "execution_count": null,
      "outputs": [
        {
          "output_type": "stream",
          "name": "stdout",
          "text": [
            "\n",
            " Epoch 1 / 2\n",
            "  Batch 50  of  983.\n",
            "  Batch 100  of  983.\n",
            "  Batch 150  of  983.\n",
            "  Batch 200  of  983.\n",
            "  Batch 250  of  983.\n",
            "  Batch 300  of  983.\n",
            "  Batch 350  of  983.\n",
            "  Batch 400  of  983.\n",
            "  Batch 450  of  983.\n",
            "  Batch 500  of  983.\n",
            "  Batch 550  of  983.\n",
            "  Batch 600  of  983.\n",
            "  Batch 650  of  983.\n",
            "  Batch 700  of  983.\n",
            "  Batch 750  of  983.\n",
            "  Batch 800  of  983.\n",
            "  Batch 850  of  983.\n",
            "  Batch 900  of  983.\n",
            "  Batch 950  of  983.\n",
            "\n",
            "Evaluating...\n",
            "  Batch 50  of  211.\n",
            "  Batch 100  of  211.\n",
            "  Batch 150  of  211.\n",
            "  Batch 200  of  211.\n",
            "Training Loss: 0.562\n",
            "Validation Loss: 0.483\n",
            "\n",
            " Epoch 2 / 2\n",
            "  Batch 50  of  983.\n",
            "  Batch 100  of  983.\n",
            "  Batch 150  of  983.\n",
            "  Batch 200  of  983.\n",
            "  Batch 250  of  983.\n",
            "  Batch 300  of  983.\n",
            "  Batch 350  of  983.\n",
            "  Batch 400  of  983.\n",
            "  Batch 450  of  983.\n",
            "  Batch 500  of  983.\n",
            "  Batch 550  of  983.\n",
            "  Batch 600  of  983.\n",
            "  Batch 650  of  983.\n",
            "  Batch 700  of  983.\n",
            "  Batch 750  of  983.\n",
            "  Batch 800  of  983.\n",
            "  Batch 850  of  983.\n",
            "  Batch 900  of  983.\n",
            "  Batch 950  of  983.\n",
            "\n",
            "Evaluating...\n",
            "  Batch 50  of  211.\n",
            "  Batch 100  of  211.\n",
            "  Batch 150  of  211.\n",
            "  Batch 200  of  211.\n",
            "Training Loss: 0.469\n",
            "Validation Loss: 0.415\n"
          ]
        }
      ]
    },
    {
      "cell_type": "markdown",
      "source": [
        "torch.no_grad() – Disables gradient computation (saves memory & speeds up inference).\n",
        "\n",
        "model(...) – Gets predictions from the test data (test_seq, test_mask).\n",
        "\n",
        "detach() – Detaches the output from the computation graph.\n",
        "\n",
        "cpu().numpy() – Moves the predictions to the CPU and converts to NumPy array.\n",
        "\n",
        "BERT outputs log-softmax probabilities for each class.\n",
        "\n",
        "argmax(...) picks the class with the highest probability.\n",
        "\n",
        "Compares true labels (test_y) with predicted labels (preds).\n",
        "\n",
        "Displays precision, recall, f1-score, and support for each class."
      ],
      "metadata": {
        "id": "KIDOqcb2zNGy"
      }
    },
    {
      "cell_type": "code",
      "source": [
        "# Testing\n",
        "with torch.no_grad():\n",
        "    preds = model(test_seq.to(device), test_mask.to(device))\n",
        "    preds = preds.detach().cpu().numpy()\n",
        "\n",
        "preds = np.argmax(preds, axis=1)\n",
        "print(classification_report(test_y, preds))"
      ],
      "metadata": {
        "colab": {
          "base_uri": "https://localhost:8080/"
        },
        "id": "7qEaS7L70Tqo",
        "outputId": "3f24d3e3-d8fb-4ab7-9892-9a3535993a5b"
      },
      "execution_count": null,
      "outputs": [
        {
          "output_type": "stream",
          "name": "stdout",
          "text": [
            "              precision    recall  f1-score   support\n",
            "\n",
            "       False       0.76      0.92      0.83      3213\n",
            "        True       0.91      0.73      0.81      3523\n",
            "\n",
            "    accuracy                           0.82      6736\n",
            "   macro avg       0.84      0.83      0.82      6736\n",
            "weighted avg       0.84      0.82      0.82      6736\n",
            "\n"
          ]
        }
      ]
    },
    {
      "cell_type": "code",
      "source": [
        "# Test on unseen samples\n",
        "unseen_news_text = [\n",
        "    \"Donald Trump Sends Out Embarrassing New Year’s Eve Message; This is Disturbing\",\n",
        "    \"WATCH: George W. Bush Calls Out Trump For Supporting White Supremacy\",\n",
        "    \"U.S. lawmakers question businessman at 2016 Trump Tower meeting: sources\",\n",
        "    \"Trump administration issues new rules on U.S. visa waivers\"\n",
        "]\n",
        "\n",
        "tokens_unseen = tokenizer.batch_encode_plus(\n",
        "    unseen_news_text,\n",
        "    max_length=MAX_LENGTH,\n",
        "    pad_to_max_length=True,\n",
        "    truncation=True\n",
        ")\n",
        "\n",
        "unseen_seq = torch.tensor(tokens_unseen['input_ids']).to(device)\n",
        "unseen_mask = torch.tensor(tokens_unseen['attention_mask']).to(device)\n",
        "\n",
        "with torch.no_grad():\n",
        "    preds = model(unseen_seq, unseen_mask)\n",
        "    preds = preds.detach().cpu().numpy()\n",
        "\n",
        "preds = np.argmax(preds, axis=1)\n",
        "print(\"Unseen predictions:\", preds)"
      ],
      "metadata": {
        "colab": {
          "base_uri": "https://localhost:8080/"
        },
        "id": "tqjqcEoT0ZS7",
        "outputId": "3200ea53-3789-4bf0-dc75-9323ff7582b0"
      },
      "execution_count": null,
      "outputs": [
        {
          "output_type": "stream",
          "name": "stdout",
          "text": [
            "Unseen predictions: [1 0 0 0]\n"
          ]
        },
        {
          "output_type": "stream",
          "name": "stderr",
          "text": [
            "/usr/local/lib/python3.11/dist-packages/transformers/tokenization_utils_base.py:2674: FutureWarning: The `pad_to_max_length` argument is deprecated and will be removed in a future version, use `padding=True` or `padding='longest'` to pad to the longest sequence in the batch, or use `padding='max_length'` to pad to a max length. In this case, you can give a specific length with `max_length` (e.g. `max_length=45`) or leave max_length to None to pad to the maximal input size of the model (e.g. 512 for Bert).\n",
            "  warnings.warn(\n"
          ]
        }
      ]
    },
    {
      "cell_type": "code",
      "source": [
        "from pyspark.sql.functions import col, length\n"
      ],
      "metadata": {
        "id": "H0ufV8iR1VIc"
      },
      "execution_count": null,
      "outputs": []
    },
    {
      "cell_type": "code",
      "source": [
        "# Start Spark session\n",
        "spark = SparkSession.builder.appName(\"FakeNewsDetection\").getOrCreate()\n",
        "\n",
        "# Show number of partitions to demonstrate parallel processing\n",
        "print(\"Number of Spark partitions (example of parallelism):\")\n",
        "print(spark.sparkContext.defaultParallelism)\n",
        "\n",
        "# Demonstrate parallel transformation\n",
        "from pyspark.sql.functions import length\n",
        "\n",
        "# Example: compute and show title lengths in parallel\n",
        "sample = true_data.select(\"title\").withColumn(\"length\", length(col(\"title\")))\n",
        "sample.show(5)\n"
      ],
      "metadata": {
        "colab": {
          "base_uri": "https://localhost:8080/"
        },
        "id": "8vAg0Yon1LA3",
        "outputId": "fd5e0e56-3860-4a9b-f524-990aa28eaa87"
      },
      "execution_count": null,
      "outputs": [
        {
          "output_type": "stream",
          "name": "stdout",
          "text": [
            "Number of Spark partitions (example of parallelism):\n",
            "2\n",
            "+--------------------+------+\n",
            "|               title|length|\n",
            "+--------------------+------+\n",
            "|As U.S. budget fi...|    64|\n",
            "|U.S. military to ...|    64|\n",
            "|Senior U.S. Repub...|    60|\n",
            "|FBI Russia probe ...|    59|\n",
            "|Trump wants Posta...|    69|\n",
            "+--------------------+------+\n",
            "only showing top 5 rows\n",
            "\n"
          ]
        }
      ]
    },
    {
      "cell_type": "code",
      "source": [
        "from pyspark.sql.functions import udf\n",
        "from pyspark.sql.types import ArrayType, IntegerType\n",
        "\n",
        "# Load tokenizer\n",
        "tokenizer = BertTokenizerFast.from_pretrained('bert-base-uncased')\n",
        "\n",
        "# Define Spark UDF for tokenization\n",
        "@udf(ArrayType(IntegerType()))\n",
        "def tokenize_text(text):\n",
        "    return tokenizer.encode(text, max_length=15, truncation=True, padding='max_length')\n",
        "\n",
        "# Apply UDF on true_data and fake_data in parallel\n",
        "true_data = true_data.withColumn(\"input_ids\", tokenize_text(col(\"title\")))\n",
        "fake_data = fake_data.withColumn(\"input_ids\", tokenize_text(col(\"title\")))\n",
        "\n",
        "# Show result\n",
        "true_data.select(\"title\", \"input_ids\").show(5, truncate=False)\n"
      ],
      "metadata": {
        "colab": {
          "base_uri": "https://localhost:8080/"
        },
        "id": "kbSvadKE2Ij2",
        "outputId": "87534226-1ffb-4aeb-a939-4235a071bfc7"
      },
      "execution_count": null,
      "outputs": [
        {
          "output_type": "stream",
          "name": "stderr",
          "text": [
            "/usr/local/lib/python3.11/dist-packages/huggingface_hub/file_download.py:896: FutureWarning: `resume_download` is deprecated and will be removed in version 1.0.0. Downloads always resume when possible. If you want to force a new download, use `force_download=True`.\n",
            "  warnings.warn(\n"
          ]
        },
        {
          "output_type": "stream",
          "name": "stdout",
          "text": [
            "+---------------------------------------------------------------------+-------------------------------------------------------------------------------------------+\n",
            "|title                                                                |input_ids                                                                                  |\n",
            "+---------------------------------------------------------------------+-------------------------------------------------------------------------------------------+\n",
            "|As U.S. budget fight looms, Republicans flip their fiscal script     |[101, 2004, 1057, 1012, 1055, 1012, 5166, 2954, 8840, 22225, 1010, 10643, 11238, 2037, 102]|\n",
            "|U.S. military to accept transgender recruits on Monday: Pentagon     |[101, 1057, 1012, 1055, 1012, 2510, 2000, 5138, 16824, 15024, 2006, 6928, 1024, 20864, 102]|\n",
            "|Senior U.S. Republican senator: 'Let Mr. Mueller do his job'         |[101, 3026, 1057, 1012, 1055, 1012, 3951, 5205, 1024, 1005, 2292, 2720, 1012, 26774, 102]  |\n",
            "|FBI Russia probe helped by Australian diplomat tip-off: NYT          |[101, 8495, 3607, 15113, 3271, 2011, 2827, 11125, 5955, 1011, 2125, 1024, 6396, 2102, 102] |\n",
            "|Trump wants Postal Service to charge 'much more' for Amazon shipments|[101, 8398, 4122, 10690, 2326, 2000, 3715, 1005, 2172, 2062, 1005, 2005, 9733, 24636, 102] |\n",
            "+---------------------------------------------------------------------+-------------------------------------------------------------------------------------------+\n",
            "only showing top 5 rows\n",
            "\n"
          ]
        }
      ]
    }
  ]
}